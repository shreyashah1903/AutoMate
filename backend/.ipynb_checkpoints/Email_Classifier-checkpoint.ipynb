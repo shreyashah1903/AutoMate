{
 "cells": [
  {
   "cell_type": "code",
   "execution_count": 5,
   "id": "d11cbd9d",
   "metadata": {},
   "outputs": [
    {
     "name": "stdout",
     "output_type": "stream",
     "text": [
      "Requirement already satisfied: nltk in /opt/homebrew/lib/python3.10/site-packages (3.7)\n",
      "Requirement already satisfied: click in /opt/homebrew/lib/python3.10/site-packages (from nltk) (8.1.3)\n",
      "Requirement already satisfied: joblib in /opt/homebrew/lib/python3.10/site-packages (from nltk) (1.2.0)\n",
      "Requirement already satisfied: tqdm in /opt/homebrew/lib/python3.10/site-packages (from nltk) (4.64.1)\n",
      "Requirement already satisfied: regex>=2021.8.3 in /opt/homebrew/lib/python3.10/site-packages (from nltk) (2022.9.13)\n",
      "Requirement already satisfied: sklearn in /opt/homebrew/lib/python3.10/site-packages (0.0)\n",
      "Requirement already satisfied: scikit-learn in /opt/homebrew/lib/python3.10/site-packages (from sklearn) (1.1.2)\n",
      "Requirement already satisfied: scipy>=1.3.2 in /opt/homebrew/lib/python3.10/site-packages (from scikit-learn->sklearn) (1.9.1)\n",
      "Requirement already satisfied: joblib>=1.0.0 in /opt/homebrew/lib/python3.10/site-packages (from scikit-learn->sklearn) (1.2.0)\n",
      "Requirement already satisfied: numpy>=1.17.3 in /opt/homebrew/lib/python3.10/site-packages (from scikit-learn->sklearn) (1.23.3)\n",
      "Requirement already satisfied: threadpoolctl>=2.0.0 in /opt/homebrew/lib/python3.10/site-packages (from scikit-learn->sklearn) (3.1.0)\n",
      "Requirement already satisfied: pandas in /opt/homebrew/lib/python3.10/site-packages (1.5.0)\n",
      "Requirement already satisfied: pytz>=2020.1 in /opt/homebrew/lib/python3.10/site-packages (from pandas) (2022.2.1)\n",
      "Requirement already satisfied: python-dateutil>=2.8.1 in /opt/homebrew/lib/python3.10/site-packages (from pandas) (2.8.2)\n",
      "Requirement already satisfied: numpy>=1.21.0 in /opt/homebrew/lib/python3.10/site-packages (from pandas) (1.23.3)\n",
      "Requirement already satisfied: six>=1.5 in /opt/homebrew/lib/python3.10/site-packages (from python-dateutil>=2.8.1->pandas) (1.16.0)\n",
      "Requirement already satisfied: pickle-mixin in /opt/homebrew/lib/python3.10/site-packages (1.0.2)\n"
     ]
    }
   ],
   "source": [
    "!pip3 install nltk\n",
    "!pip3 install sklearn\n",
    "!pip3 install pandas\n",
    "!pip3 install pickle-mixin"
   ]
  },
  {
   "cell_type": "code",
   "execution_count": 6,
   "id": "01566c46",
   "metadata": {},
   "outputs": [
    {
     "name": "stderr",
     "output_type": "stream",
     "text": [
      "[nltk_data] Downloading package stopwords to\n",
      "[nltk_data]     /Users/sualehali/nltk_data...\n",
      "[nltk_data]   Package stopwords is already up-to-date!\n"
     ]
    }
   ],
   "source": [
    "# pandas\n",
    "import pandas as pd\n",
    "# nltk\n",
    "import nltk\n",
    "nltk.download('stopwords')\n",
    "from nltk.corpus import stopwords\n",
    "# sklearn\n",
    "from sklearn.feature_extraction.text import CountVectorizer\n",
    "from sklearn.feature_extraction.text import TfidfVectorizer, TfidfTransformer\n",
    "from sklearn.preprocessing import LabelEncoder\n",
    "from sklearn.naive_bayes import MultinomialNB\n",
    "from sklearn.model_selection import train_test_split\n",
    "from sklearn.metrics import confusion_matrix\n",
    "from sklearn.metrics import classification_report\n",
    "from sklearn.model_selection import cross_val_score\n",
    "\n",
    "import matplotlib.pyplot as plt\n",
    "\n",
    "import string\n",
    "import pickle"
   ]
  },
  {
   "cell_type": "code",
   "execution_count": 7,
   "id": "de2d8a1e",
   "metadata": {},
   "outputs": [],
   "source": [
    "df = pd.read_csv('data/rejection_data.csv')"
   ]
  },
  {
   "cell_type": "markdown",
   "id": "1feffcef",
   "metadata": {},
   "source": [
    "# Preprocessing"
   ]
  },
  {
   "cell_type": "code",
   "execution_count": 8,
   "id": "98637a7d",
   "metadata": {},
   "outputs": [
    {
     "data": {
      "text/plain": [
       "<AxesSubplot: >"
      ]
     },
     "execution_count": 8,
     "metadata": {},
     "output_type": "execute_result"
    },
    {
     "data": {
      "image/png": "[encoded data removed]",
      "text/plain": [
       "<Figure size 640x480 with 1 Axes>"
      ]
     },
     "metadata": {},
     "output_type": "display_data"
    }
   ],
   "source": [
    "df.Status.value_counts().plot(kind='bar')\n"
   ]
  },
  {
   "cell_type": "code",
   "execution_count": 9,
   "id": "2e2a9b0e",
   "metadata": {},
   "outputs": [],
   "source": [
    "def transform_text(body):\n",
    "    stop_words = set(stopwords.words('english'))\n",
    "    body = body.lower()\n",
    "    body = body.translate(str.maketrans('','', string.punctuation))\n",
    "    body = body.translate(str.maketrans('','','1234567890'))\n",
    "    body = body.translate(str.maketrans('','','\\n'))\n",
    "    body = ' '.join(word.lower() for word in body.split() if word not in stop_words)\n",
    "    return body\n",
    "df.Email = df.Email.apply(lambda x: transform_text(x))"
   ]
  },
  {
   "cell_type": "code",
   "execution_count": 10,
   "id": "4eae1d67",
   "metadata": {},
   "outputs": [
    {
     "data": {
      "text/html": [
       "<div>\n",
       "<style scoped>\n",
       "    .dataframe tbody tr th:only-of-type {\n",
       "        vertical-align: middle;\n",
       "    }\n",
       "\n",
       "    .dataframe tbody tr th {\n",
       "        vertical-align: top;\n",
       "    }\n",
       "\n",
       "    .dataframe thead th {\n",
       "        text-align: right;\n",
       "    }\n",
       "</style>\n",
       "<table border=\"1\" class=\"dataframe\">\n",
       "  <thead>\n",
       "    <tr style=\"text-align: right;\">\n",
       "      <th></th>\n",
       "      <th>Email</th>\n",
       "      <th>Status</th>\n",
       "    </tr>\n",
       "  </thead>\n",
       "  <tbody>\n",
       "    <tr>\n",
       "      <th>0</th>\n",
       "      <td>thank applying junior software developer posit...</td>\n",
       "      <td>reject</td>\n",
       "    </tr>\n",
       "    <tr>\n",
       "      <th>1</th>\n",
       "      <td>thank interest train hire junior software deve...</td>\n",
       "      <td>reject</td>\n",
       "    </tr>\n",
       "    <tr>\n",
       "      <th>2</th>\n",
       "      <td>eth thank interest exyn applying apart team so...</td>\n",
       "      <td>reject</td>\n",
       "    </tr>\n",
       "    <tr>\n",
       "      <th>3</th>\n",
       "      <td>thank interest software engineer position lant...</td>\n",
       "      <td>reject</td>\n",
       "    </tr>\n",
       "    <tr>\n",
       "      <th>4</th>\n",
       "      <td>hi seththank interest pathai unfortunately hir...</td>\n",
       "      <td>reject</td>\n",
       "    </tr>\n",
       "  </tbody>\n",
       "</table>\n",
       "</div>"
      ],
      "text/plain": [
       "                                               Email  Status\n",
       "0  thank applying junior software developer posit...  reject\n",
       "1  thank interest train hire junior software deve...  reject\n",
       "2  eth thank interest exyn applying apart team so...  reject\n",
       "3  thank interest software engineer position lant...  reject\n",
       "4  hi seththank interest pathai unfortunately hir...  reject"
      ]
     },
     "execution_count": 10,
     "metadata": {},
     "output_type": "execute_result"
    }
   ],
   "source": [
    "df.head()"
   ]
  },
  {
   "cell_type": "markdown",
   "id": "7076eb3a",
   "metadata": {},
   "source": [
    "# Model"
   ]
  },
  {
   "cell_type": "code",
   "execution_count": 16,
   "id": "6e19a3bf",
   "metadata": {},
   "outputs": [
    {
     "name": "stdout",
     "output_type": "stream",
     "text": [
      "  (0, 1683)\t1\n",
      "  (0, 114)\t1\n",
      "  (0, 898)\t1\n",
      "  (0, 1554)\t1\n",
      "  (0, 423)\t1\n",
      "  (0, 1212)\t1\n",
      "  (0, 1046)\t2\n",
      "  (0, 1670)\t1\n",
      "  (0, 1669)\t1\n",
      "  (0, 1041)\t1\n",
      "  (0, 1077)\t1\n",
      "  (0, 1600)\t1\n",
      "  (0, 745)\t1\n",
      "  (0, 1255)\t1\n",
      "  (0, 103)\t1\n",
      "  (0, 1488)\t1\n",
      "  (0, 1697)\t1\n",
      "  (1, 1683)\t1\n",
      "  (1, 898)\t1\n",
      "  (1, 1554)\t1\n",
      "  (1, 423)\t1\n",
      "  (1, 1212)\t1\n",
      "  (1, 103)\t1\n",
      "  (1, 1697)\t1\n",
      "  (1, 830)\t2\n",
      "  :\t:\n",
      "  (128, 154)\t1\n",
      "  (128, 460)\t1\n",
      "  (128, 398)\t1\n",
      "  (128, 1463)\t1\n",
      "  (128, 1601)\t1\n",
      "  (128, 1745)\t1\n",
      "  (128, 1579)\t1\n",
      "  (128, 353)\t1\n",
      "  (128, 1141)\t1\n",
      "  (128, 987)\t2\n",
      "  (128, 1747)\t1\n",
      "  (128, 988)\t1\n",
      "  (128, 728)\t1\n",
      "  (128, 929)\t1\n",
      "  (128, 671)\t1\n",
      "  (128, 189)\t1\n",
      "  (128, 1169)\t1\n",
      "  (128, 705)\t1\n",
      "  (128, 1700)\t1\n",
      "  (128, 350)\t1\n",
      "  (128, 304)\t1\n",
      "  (128, 1625)\t1\n",
      "  (128, 590)\t1\n",
      "  (128, 1549)\t1\n",
      "  (128, 1803)\t1\n"
     ]
    }
   ],
   "source": [
    "vectorizer = CountVectorizer()\n",
    "x = vectorizer.fit_transform(df.Email)\n",
    "encoder = LabelEncoder()\n",
    "y = encoder.fit_transform(df.Status)\n",
    "y = encoder.fit_transform(df.Status)\n",
    "\n",
    "x_train, x_test, y_train, y_test = train_test_split(x, y, test_size=0.2)"
   ]
  },
  {
   "cell_type": "code",
   "execution_count": 12,
   "id": "83487f10",
   "metadata": {},
   "outputs": [],
   "source": [
    "nb = MultinomialNB()\n",
    "nb.fit(x_train, y_train)\n",
    "\n",
    "\n",
    "def predict_rejection(email):\n",
    "    category_names = {'reject':'reject','not_reject':'not-reject'}\n",
    "    cod = nb.predict(vectorizer.transform([email]))\n",
    "    return category_names[encoder.inverse_transform(cod)[0]]"
   ]
  },
  {
   "cell_type": "markdown",
   "id": "b15ba38b",
   "metadata": {},
   "source": [
    "# Evaluation"
   ]
  },
  {
   "cell_type": "code",
   "execution_count": 13,
   "id": "a9ff386f",
   "metadata": {},
   "outputs": [
    {
     "name": "stdout",
     "output_type": "stream",
     "text": [
      "Accuracy: 0.9615384615384616\n"
     ]
    }
   ],
   "source": [
    "from sklearn.linear_model import LogisticRegression\n",
    "from sklearn.multiclass import OneVsRestClassifier\n",
    "\n",
    "# Init the classfifier\n",
    "clf = OneVsRestClassifier(LogisticRegression())\n",
    "\n",
    "# Fit classifier to training data\n",
    "clf.fit(x_train, y_train)\n",
    "\n",
    "# Print accuracy\n",
    "print(f'Accuracy: {clf.score(x_test, y_test)}')"
   ]
  },
  {
   "cell_type": "code",
   "execution_count": 14,
   "id": "da4f028a",
   "metadata": {},
   "outputs": [
    {
     "name": "stdout",
     "output_type": "stream",
     "text": [
      "              precision    recall  f1-score   support\n",
      "\n",
      "  not_reject       1.00      0.92      0.96        13\n",
      "      reject       0.93      1.00      0.96        13\n",
      "\n",
      "    accuracy                           0.96        26\n",
      "   macro avg       0.96      0.96      0.96        26\n",
      "weighted avg       0.96      0.96      0.96        26\n",
      "\n"
     ]
    }
   ],
   "source": [
    "x_test_clv_pred = clf.predict(x_test)\n",
    "confusion_matrix(y_test, x_test_clv_pred)\n",
    "print(classification_report(y_test, x_test_clv_pred, target_names=encoder.classes_))"
   ]
  },
  {
   "cell_type": "code",
   "execution_count": 18,
   "id": "39f81b48",
   "metadata": {},
   "outputs": [],
   "source": [
    "filename = 'model/finalized_model.sav'\n",
    "pickle.dump(clf, open(filename, 'wb'))\n",
    "\n",
    "filename = 'model/finalized_vectorizer.sav'\n",
    "pickle.dump(vectorizer, open(filename, 'wb'))\n",
    "\n",
    "filename = 'model/finalized_encoder.sav'\n",
    "pickle.dump(encoder, open(filename, 'wb'))"
   ]
  }
 ],
 "metadata": {
  "kernelspec": {
   "display_name": "Python 3 (ipykernel)",
   "language": "python",
   "name": "python3"
  },
  "language_info": {
   "codemirror_mode": {
    "name": "ipython",
    "version": 3
   },
   "file_extension": ".py",
   "mimetype": "text/x-python",
   "name": "python",
   "nbconvert_exporter": "python",
   "pygments_lexer": "ipython3",
   "version": "3.10.6"
  }
 },
 "nbformat": 4,
 "nbformat_minor": 5
}
